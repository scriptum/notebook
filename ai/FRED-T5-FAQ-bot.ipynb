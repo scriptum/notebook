{
 "cells": [
  {
   "cell_type": "code",
   "execution_count": null,
   "metadata": {},
   "outputs": [],
   "source": [
    "import torch\n",
    "from transformers import GPT2Tokenizer, T5ForConditionalGeneration \n",
    "tokenizer = GPT2Tokenizer.from_pretrained('ai-forever/FRED-T5-1.7B',eos_token='</s>')\n",
    "model = T5ForConditionalGeneration.from_pretrained('ai-forever/FRED-T5-1.7B')\n",
    "device='cuda'\n",
    "model.bfloat16() # keep if you have less than 8G GPU memory\n",
    "model.to(device)"
   ]
  },
  {
   "cell_type": "code",
   "execution_count": 52,
   "metadata": {},
   "outputs": [],
   "source": [
    "# difflib less accurate but included in standard python library\n",
    "SIMILARITY_METHOD = \"tf-idf\" # requires scikit-learn\n",
    "# SIMILARITY_METHOD = \"difflib\""
   ]
  },
  {
   "cell_type": "code",
   "execution_count": 53,
   "metadata": {},
   "outputs": [],
   "source": [
    "import csv\n",
    "# load Q&A db based on russian Jeopardy dataset\n",
    "db = dict()\n",
    "with open(\"db2.tsv\") as fd:\n",
    "    reader = csv.reader(fd, delimiter=\"\\t\")\n",
    "    next(reader) # skip header\n",
    "    for row in reader:\n",
    "        db[row[0]] = row[1]"
   ]
  },
  {
   "cell_type": "code",
   "execution_count": 54,
   "metadata": {},
   "outputs": [],
   "source": [
    "queries = '''Плоды какого дерева семейства цитрусовых висят как гроздья?\n",
    "Какой метод лечения основал Ганеман?\n",
    "Что такое борт номер один?\n",
    "Как нужно отпускать сцепление?\n",
    "Кто был третий чемпион мира по шахматам?\n",
    "'''.strip().split(\"\\n\")"
   ]
  },
  {
   "cell_type": "code",
   "execution_count": 55,
   "metadata": {},
   "outputs": [],
   "source": [
    "# find top 10 similar questions with difflib or tf-idf\n",
    "if SIMILARITY_METHOD == 'difflib':\n",
    "    import difflib\n",
    "    def context(query, n=10):\n",
    "        return '\\n'.join(['Пользователь: %s\\nАссистент: %s'% (k, db[k]) for k in difflib.get_close_matches(query, db.keys(), n=n, cutoff=0.1)])"
   ]
  },
  {
   "cell_type": "code",
   "execution_count": 56,
   "metadata": {},
   "outputs": [],
   "source": [
    "if SIMILARITY_METHOD == 'tf-idf':\n",
    "    from sklearn.feature_extraction.text import TfidfVectorizer\n",
    "    from sklearn.neighbors import NearestNeighbors\n",
    "    vectorizer = TfidfVectorizer()\n",
    "    nn = NearestNeighbors(metric='cosine')\n",
    "    nn.fit(vectorizer.fit_transform(db.keys()))\n",
    "    \n",
    "    def context(query, n=10):\n",
    "        distances, indices = nn.kneighbors(vectorizer.transform([query]), n_neighbors = n)\n",
    "        lst = list(db.keys())\n",
    "        return '\\n'.join(['Пользователь: %s\\nАссистент: %s'% (lst[i], db[lst[i]]) for i in indices[0]])\n"
   ]
  },
  {
   "cell_type": "code",
   "execution_count": 57,
   "metadata": {},
   "outputs": [
    {
     "name": "stdout",
     "output_type": "stream",
     "text": [
      "Question:\n",
      "\t Плоды какого дерева семейства цитрусовых висят как гроздья?\n",
      "Without context:\n",
      "\t Лимонное дерево.\n",
      "With context:\n",
      "\t Грейпфрут\n",
      "Question:\n",
      "\t Какой метод лечения основал Ганеман?\n",
      "Without context:\n",
      "\t Метод Ганемана основан на том, что все болезни от нервов.\n",
      "With context:\n",
      "\t Гомеопатия\n",
      "Question:\n",
      "\t Что такое борт номер один?\n",
      "Without context:\n",
      "\t Борт номер один - это самолет, который летит первым.\n",
      "With context:\n",
      "\t Президентский самолет\n",
      "Question:\n",
      "\t Как нужно отпускать сцепление?\n",
      "Without context:\n",
      "\t Сцепление нужно отпускать плавно.\n",
      "With context:\n",
      "\t Ме-е-е-дленно\n",
      "Question:\n",
      "\t Кто был третий чемпион мира по шахматам?\n",
      "Without context:\n",
      "\t Гарри Каспаров.\n",
      "With context:\n",
      "\t АЛЕКСАНДР АЛЬБЕРТОВИЧ\n"
     ]
    }
   ],
   "source": [
    "def t5(query, context=\"\"):\n",
    "    lm_text = \"\"\"<SC6>Продолжи диалог:\n",
    "Пользователь: Привет. Ты кто?\n",
    "Ассистент: Я умный персональный ассистент. Отвечаю на различные вопросы пользователя.\n",
    "%s\n",
    "Пользователь: %s\n",
    "Ассистент: <extra_id_0>\n",
    "Пользователь: Спасибо, ты очень помог. Пока!\n",
    "Ассистент: Всегда рад помочь.\n",
    "\"\"\" % (context, query)\n",
    "    input_ids = torch.tensor([tokenizer.encode(lm_text)]).to(device)\n",
    "    outputs = model.generate(input_ids, eos_token_id=tokenizer.eos_token_id,\n",
    "                         num_beams=4,\n",
    "                         repetition_penalty=1.04,\n",
    "                         temperature=0.3,\n",
    "                         max_length=150,\n",
    "                         min_length=1\n",
    "                         )\n",
    "    t5_output = tokenizer.decode(outputs[0][1:])\n",
    "\n",
    "    if '</s>' in t5_output:\n",
    "        t5_output = t5_output[:t5_output.find('</s>')].strip()\n",
    "    t5_output = t5_output.replace('<extra_id_0>', '').strip()\n",
    "    t5_output = t5_output.replace('Ассистент:', '').strip()\n",
    "    t5_output = t5_output.split('Пользователь:')[0].strip()\n",
    "    return t5_output\n",
    "for query in queries:\n",
    "    print(\"Question:\")\n",
    "    print(\"\\t\", query)\n",
    "    print(\"Without context:\")\n",
    "    print(\"\\t\", t5(query))\n",
    "    print(\"With context:\")\n",
    "    с = context(query, 5)\n",
    "    # print(с)\n",
    "    print(\"\\t\", t5(query, с))"
   ]
  }
 ],
 "metadata": {
  "kernelspec": {
   "display_name": "Python 3.8.12 64-bit",
   "language": "python",
   "name": "python3"
  },
  "language_info": {
   "codemirror_mode": {
    "name": "ipython",
    "version": 3
   },
   "file_extension": ".py",
   "mimetype": "text/x-python",
   "name": "python",
   "nbconvert_exporter": "python",
   "pygments_lexer": "ipython3",
   "version": "3.8.14"
  },
  "orig_nbformat": 4,
  "vscode": {
   "interpreter": {
    "hash": "e7370f93d1d0cde622a1f8e1c04877d8463912d04d973331ad4851f04de6915a"
   }
  }
 },
 "nbformat": 4,
 "nbformat_minor": 2
}
